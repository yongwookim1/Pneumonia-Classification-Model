{
  "cells": [
    {
      "cell_type": "code",
      "execution_count": 1,
      "metadata": {
        "id": "B_hVrP92TC_n",
        "colab": {
          "base_uri": "https://localhost:8080/"
        },
        "outputId": "8f6743eb-6b32-4020-af54-a8046bd9407e"
      },
      "outputs": [
        {
          "output_type": "stream",
          "name": "stdout",
          "text": [
            "\u001b[2K     \u001b[90m━━━━━━━━━━━━━━━━━━━━━━━━━━━━━━━━━━━━━━━━\u001b[0m \u001b[32m8.4/8.4 MB\u001b[0m \u001b[31m20.2 MB/s\u001b[0m eta \u001b[36m0:00:00\u001b[0m\n",
            "\u001b[2K     \u001b[90m━━━━━━━━━━━━━━━━━━━━━━━━━━━━━━━━━━━━━━━━\u001b[0m \u001b[32m190.6/190.6 kB\u001b[0m \u001b[31m18.4 MB/s\u001b[0m eta \u001b[36m0:00:00\u001b[0m\n",
            "\u001b[2K     \u001b[90m━━━━━━━━━━━━━━━━━━━━━━━━━━━━━━━━━━━━━━━━\u001b[0m \u001b[32m4.8/4.8 MB\u001b[0m \u001b[31m43.2 MB/s\u001b[0m eta \u001b[36m0:00:00\u001b[0m\n",
            "\u001b[2K     \u001b[90m━━━━━━━━━━━━━━━━━━━━━━━━━━━━━━━━━━━━━━━━\u001b[0m \u001b[32m82.1/82.1 kB\u001b[0m \u001b[31m8.0 MB/s\u001b[0m eta \u001b[36m0:00:00\u001b[0m\n",
            "\u001b[2K     \u001b[90m━━━━━━━━━━━━━━━━━━━━━━━━━━━━━━━━━━━━━━━━\u001b[0m \u001b[32m62.7/62.7 kB\u001b[0m \u001b[31m4.8 MB/s\u001b[0m eta \u001b[36m0:00:00\u001b[0m\n",
            "\u001b[?25h"
          ]
        }
      ],
      "source": [
        "!pip install -q streamlit"
      ]
    },
    {
      "cell_type": "code",
      "execution_count": 2,
      "metadata": {
        "id": "BpHMvTbtTWVz",
        "colab": {
          "base_uri": "https://localhost:8080/"
        },
        "outputId": "615fa38f-05d6-4365-bebd-de62a52feb52"
      },
      "outputs": [
        {
          "output_type": "stream",
          "name": "stdout",
          "text": [
            "Mounted at /content/drive\n"
          ]
        }
      ],
      "source": [
        "from google.colab import drive\n",
        "drive.mount('/content/drive')"
      ]
    },
    {
      "cell_type": "code",
      "execution_count": 3,
      "metadata": {
        "id": "cukwRUxijzLm",
        "colab": {
          "base_uri": "https://localhost:8080/"
        },
        "outputId": "3f4d7b63-8c4f-46a4-8941-b98346224381"
      },
      "outputs": [
        {
          "output_type": "stream",
          "name": "stdout",
          "text": [
            "Writing app.py\n"
          ]
        }
      ],
      "source": [
        "%%writefile app.py\n",
        "\n",
        "import streamlit as st\n",
        "\n",
        "import torch\n",
        "import torch.nn as nn\n",
        "import torch.nn.functional as F\n",
        "\n",
        "import albumentations as A\n",
        "from albumentations.pytorch import ToTensorV2\n",
        "\n",
        "import io\n",
        "\n",
        "import numpy as np\n",
        "from PIL import Image\n",
        "\n",
        "from torchvision.models import resnet34\n",
        "\n",
        "st.set_page_config(layout=\"wide\")\n",
        "\n",
        "\n",
        "class ResNet34(nn.Module):\n",
        "    def __init__(self, num_classes):\n",
        "        super(ResNet34, self).__init__()\n",
        "        self.model = resnet34(weights=\"DEFAULT\")\n",
        "        self.num_ftrs = self.model.fc.in_features\n",
        "        self.model.fc = nn.Linear(self.num_ftrs, num_classes)\n",
        "        self.model.conv1 = nn.Conv2d(1, 64, kernel_size=7, stride=2, padding=3)\n",
        "\n",
        "    def forward(self, x):\n",
        "        x = self.model(x)\n",
        "        return x\n",
        "\n",
        "\n",
        "def transform_image(image_bytes: bytes) -> torch.Tensor:\n",
        "    image = Image.open(io.BytesIO(image_bytes))\n",
        "    image = image.convert(\"L\")\n",
        "    image_array = np.array(image)\n",
        "\n",
        "    test_transforms = A.Compose(\n",
        "        [\n",
        "            A.Resize(height=256, width=256),\n",
        "            A.CLAHE(always_apply=False, p=1.0, clip_limit=(4, 4), tile_grid_size=(4, 4)),\n",
        "            A.Normalize(mean=[0.5], std=[0.5], max_pixel_value=255.0, p=1.0),\n",
        "            ToTensorV2(always_apply=True),\n",
        "        ]\n",
        "    )\n",
        "    return test_transforms(image=image_array)[\"image\"].unsqueeze(0)\n",
        "\n",
        "\n",
        "def get_prediction(model, image_bytes):\n",
        "    device = torch.device(\"cuda\" if torch.cuda.is_available() else \"cpu\")\n",
        "    transformed_image = transform_image(image_bytes=image_bytes).to(device)\n",
        "    outputs = model.forward(transformed_image)\n",
        "    outputs = F.softmax(outputs, dim=1)\n",
        "    return transformed_image, outputs\n",
        "\n",
        "\n",
        "def main():\n",
        "    st.title(\"Pneumonia Classification Solution\")\n",
        "\n",
        "    model = ResNet34(num_classes=2)\n",
        "\n",
        "    model = torch.load(\"/content/drive/MyDrive/image_processing_project/model_cl.pt\")\n",
        "    device = torch.device(\"cuda\" if torch.cuda.is_available() else \"cpu\")\n",
        "    model.to(device)\n",
        "    model.eval()\n",
        "\n",
        "    uploaded_file = st.file_uploader(\n",
        "        \"Upload chest X-ray image\", type=[\"jpg\", \"jpeg\", \"png\"]\n",
        "    )\n",
        "\n",
        "    if uploaded_file:\n",
        "        image_bytes = uploaded_file.getvalue()\n",
        "        image = Image.open(io.BytesIO(image_bytes))\n",
        "\n",
        "        st.image(image, caption=\"Uploaded Image\")\n",
        "        _, outputs = get_prediction(model, image_bytes)\n",
        "\n",
        "        st.header(f\"Possibility of pneumonia is {outputs[0][1]*100:0.2f}%\")\n",
        "\n",
        "\n",
        "if __name__ == \"__main__\":\n",
        "    main()"
      ]
    },
    {
      "cell_type": "code",
      "execution_count": 4,
      "metadata": {
        "id": "TzHSUpm_XR8w",
        "colab": {
          "base_uri": "https://localhost:8080/"
        },
        "outputId": "07d797e5-6f3b-478d-fc15-f064f8ccf3ef"
      },
      "outputs": [
        {
          "output_type": "stream",
          "name": "stdout",
          "text": [
            "app.py\tdrive  sample_data\n"
          ]
        }
      ],
      "source": [
        "!ls"
      ]
    },
    {
      "cell_type": "code",
      "execution_count": 5,
      "metadata": {
        "id": "ry8tHXuUWwRQ",
        "colab": {
          "base_uri": "https://localhost:8080/"
        },
        "outputId": "0f491c91-9772-447c-de98-b3f00430be70"
      },
      "outputs": [
        {
          "output_type": "stream",
          "name": "stdout",
          "text": [
            "Password/Enpoint IP for localtunnel is: 35.192.97.224\n"
          ]
        }
      ],
      "source": [
        "import urllib\n",
        "print(\"Password/Enpoint IP for localtunnel is:\",urllib.request.urlopen('https://ipv4.icanhazip.com').read().decode('utf8').strip(\"\\n\"))"
      ]
    },
    {
      "cell_type": "code",
      "execution_count": 6,
      "metadata": {
        "id": "d-D4bxI7XvTz",
        "colab": {
          "base_uri": "https://localhost:8080/"
        },
        "outputId": "22916c86-076e-4d2c-c795-678c1001114f"
      },
      "outputs": [
        {
          "output_type": "stream",
          "name": "stdout",
          "text": [
            "\u001b[K\u001b[?25h\u001b[37;40mnpm\u001b[0m \u001b[0m\u001b[30;43mWARN\u001b[0m \u001b[0m\u001b[35msaveError\u001b[0m ENOENT: no such file or directory, open '/content/package.json'\n",
            "\u001b[0m\u001b[37;40mnpm\u001b[0m \u001b[0m\u001b[34;40mnotice\u001b[0m\u001b[35m\u001b[0m created a lockfile as package-lock.json. You should commit this file.\n",
            "\u001b[0m\u001b[37;40mnpm\u001b[0m \u001b[0m\u001b[30;43mWARN\u001b[0m \u001b[0m\u001b[35menoent\u001b[0m ENOENT: no such file or directory, open '/content/package.json'\n",
            "\u001b[0m\u001b[37;40mnpm\u001b[0m \u001b[0m\u001b[30;43mWARN\u001b[0m\u001b[35m\u001b[0m content No description\n",
            "\u001b[0m\u001b[37;40mnpm\u001b[0m \u001b[0m\u001b[30;43mWARN\u001b[0m\u001b[35m\u001b[0m content No repository field.\n",
            "\u001b[0m\u001b[37;40mnpm\u001b[0m \u001b[0m\u001b[30;43mWARN\u001b[0m\u001b[35m\u001b[0m content No README data\n",
            "\u001b[0m\u001b[37;40mnpm\u001b[0m \u001b[0m\u001b[30;43mWARN\u001b[0m\u001b[35m\u001b[0m content No license field.\n",
            "\u001b[0m\n",
            "+ localtunnel@2.0.2\n",
            "added 22 packages from 22 contributors and audited 22 packages in 1.706s\n",
            "\n",
            "3 packages are looking for funding\n",
            "  run `npm fund` for details\n",
            "\n",
            "found 1 \u001b[93mmoderate\u001b[0m severity vulnerability\n",
            "  run `npm audit fix` to fix them, or `npm audit` for details\n",
            "\u001b[K\u001b[?25h"
          ]
        }
      ],
      "source": [
        "!npm install localtunnel"
      ]
    },
    {
      "cell_type": "code",
      "execution_count": 7,
      "metadata": {
        "id": "kQsQoGQ2XxL8"
      },
      "outputs": [],
      "source": [
        "!streamlit run app.py &>/content/logs.txt &"
      ]
    },
    {
      "cell_type": "code",
      "execution_count": null,
      "metadata": {
        "id": "JOy_HP9qXzQM",
        "colab": {
          "base_uri": "https://localhost:8080/"
        },
        "outputId": "5f76d52c-a594-40e9-9587-4cc8c710d16a"
      },
      "outputs": [
        {
          "metadata": {
            "tags": null
          },
          "name": "stdout",
          "output_type": "stream",
          "text": [
            "\u001b[K\u001b[?25hnpx: installed 22 in 2.212s\n",
            "your url is: https://spicy-moose-walk.loca.lt\n"
          ]
        }
      ],
      "source": [
        "!npx localtunnel --port 8501"
      ]
    },
    {
      "cell_type": "code",
      "execution_count": null,
      "metadata": {
        "id": "FXMDaqofYgZr"
      },
      "outputs": [],
      "source": []
    }
  ],
  "metadata": {
    "accelerator": "GPU",
    "colab": {
      "provenance": []
    },
    "kernelspec": {
      "display_name": "Python 3",
      "name": "python3"
    },
    "language_info": {
      "name": "python"
    }
  },
  "nbformat": 4,
  "nbformat_minor": 0
}