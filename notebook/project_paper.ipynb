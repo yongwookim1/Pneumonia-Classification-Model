{
  "cells": [
    {
      "cell_type": "markdown",
      "metadata": {
        "id": "3xewNsoFqYBE"
      },
      "source": [
        "### Import library"
      ]
    },
    {
      "cell_type": "code",
      "execution_count": 1,
      "metadata": {
        "id": "HMqBs7fip8D-"
      },
      "outputs": [],
      "source": [
        "import os\n",
        "import random\n",
        "\n",
        "import torch\n",
        "import torch.nn as nn\n",
        "import torch.optim as optim\n",
        "import torch.nn.functional as F\n",
        "from torch.utils.data import Dataset, DataLoader, random_split\n",
        "\n",
        "import torchvision\n",
        "import torchvision.transforms as trasnforms\n",
        "from torchvision.models import resnet34\n",
        "from torchvision.models import densenet121\n",
        "\n",
        "import albumentations as A\n",
        "from albumentations.pytorch import ToTensorV2\n",
        "\n",
        "import numpy as np\n",
        "from PIL import Image"
      ]
    },
    {
      "cell_type": "markdown",
      "metadata": {
        "id": "Sav_qHn6qMpq"
      },
      "source": [
        "### Set seed"
      ]
    },
    {
      "cell_type": "code",
      "execution_count": 2,
      "metadata": {
        "id": "KDu1ccGpqIgD"
      },
      "outputs": [],
      "source": [
        "def set_seed(seed):\n",
        "    torch.manual_seed(seed)\n",
        "    torch.cuda.manual_seed(seed)\n",
        "    torch.cuda.manual_seed_all(seed)\n",
        "    torch.backends.cudnn.deterministic = True\n",
        "    torch.backends.cudnn.benchmark = False\n",
        "    np.random.seed(seed)\n",
        "    random.seed(seed)\n",
        "\n",
        "\n",
        "set_seed(1998)"
      ]
    },
    {
      "cell_type": "markdown",
      "metadata": {
        "id": "V2fZmn1tqLqM"
      },
      "source": [
        "### Load data"
      ]
    },
    {
      "cell_type": "code",
      "execution_count": 3,
      "metadata": {
        "id": "VLZ49ct-qjoX",
        "colab": {
          "base_uri": "https://localhost:8080/"
        },
        "outputId": "23590e32-0b44-4380-e5b4-201e2f59d5e1"
      },
      "outputs": [
        {
          "output_type": "stream",
          "name": "stdout",
          "text": [
            "Drive already mounted at /content/drive; to attempt to forcibly remount, call drive.mount(\"/content/drive\", force_remount=True).\n"
          ]
        }
      ],
      "source": [
        "from google.colab import drive\n",
        "drive.mount('/content/drive')"
      ]
    },
    {
      "cell_type": "code",
      "execution_count": 4,
      "metadata": {
        "id": "NeDQyYJ_qsPS",
        "colab": {
          "base_uri": "https://localhost:8080/"
        },
        "outputId": "00b67d8d-aa60-4dcc-ac56-5ca8af188db5"
      },
      "outputs": [
        {
          "output_type": "stream",
          "name": "stdout",
          "text": [
            "1341\n",
            "3875\n",
            "234\n",
            "390\n"
          ]
        }
      ],
      "source": [
        "train_normal_dir = '/content/drive/MyDrive/image_processing_project/train/NORMAL'\n",
        "train_pneumonia_dir = '/content/drive/MyDrive/image_processing_project/train/PNEUMONIA'\n",
        "valid_normal_dir = '/content/drive/MyDrive/image_processing_project/valid/NORMAL'\n",
        "valid_pneumonia_dir = '/content/drive/MyDrive/image_processing_project/valid/PNEUMONIA'\n",
        "\n",
        "train_normal_filenames = sorted([os.path.join(train_normal_dir, f) for f in os.listdir(train_normal_dir)])\n",
        "train_pneumonia_filenames = sorted([os.path.join(train_pneumonia_dir, f) for f in os.listdir(train_pneumonia_dir)])\n",
        "valid_normal_filenames = sorted([os.path.join(valid_normal_dir, f) for f in os.listdir(valid_normal_dir)])\n",
        "valid_pneumonia_filenames = sorted([os.path.join(valid_pneumonia_dir, f) for f in os.listdir(valid_pneumonia_dir)])\n",
        "\n",
        "train_filenames = [*train_normal_filenames, *train_pneumonia_filenames]\n",
        "valid_filenames = [*valid_normal_filenames, *valid_pneumonia_filenames]\n",
        "\n",
        "print(len(train_normal_filenames))\n",
        "print(len(train_pneumonia_filenames))\n",
        "print(len(valid_normal_filenames))\n",
        "print(len(valid_pneumonia_filenames))"
      ]
    },
    {
      "cell_type": "code",
      "execution_count": 5,
      "metadata": {
        "id": "yfjxthps9RAl"
      },
      "outputs": [],
      "source": [
        "train_transforms = A.Compose([A.Resize(height=256, width=256),\n",
        "                              A.Normalize(mean=[0.5], std=[0.5], max_pixel_value=255.0, p=1.0),\n",
        "                              ToTensorV2(always_apply=True),])\n",
        "valid_transforms = A.Compose([A.Resize(height=256, width=256),\n",
        "                              A.Normalize(mean=[0.5], std=[0.5], max_pixel_value=255.0, p=1.0),\n",
        "                              ToTensorV2(always_apply=True),])"
      ]
    },
    {
      "cell_type": "code",
      "execution_count": 6,
      "metadata": {
        "id": "EFPHgBgc-v9x"
      },
      "outputs": [],
      "source": [
        "class XrayDataset(Dataset):\n",
        "    def __init__(self, filenames, transforms):\n",
        "        self.filenames = filenames\n",
        "        self.transforms = transforms\n",
        "\n",
        "    def __len__(self):\n",
        "        return len(self.filenames)\n",
        "\n",
        "    def __getitem__(self, idx):\n",
        "        img_path = self.filenames[idx]\n",
        "        img = Image.open(img_path)\n",
        "        if img.mode == \"RGB\":\n",
        "            img = img.convert(\"L\")\n",
        "        img = np.array(img)\n",
        "        transformed_img = self.transforms(image=img)[\"image\"]\n",
        "        label = 0 if \"IM\" in img_path else 1\n",
        "        return transformed_img, label"
      ]
    },
    {
      "cell_type": "code",
      "execution_count": 7,
      "metadata": {
        "id": "V_UzLiBjA1ZA"
      },
      "outputs": [],
      "source": [
        "train_dataset = XrayDataset(train_filenames, train_transforms)\n",
        "valid_dataset = XrayDataset(valid_filenames, valid_transforms)\n",
        "\n",
        "train_size = round(len(train_dataset)*0.8)\n",
        "valid_size = len(train_dataset) - train_size\n",
        "\n",
        "train_dataset, valid_dataset = random_split(train_dataset, [train_size, valid_size])\n",
        "\n",
        "train_loader = DataLoader(train_dataset,\n",
        "                          batch_size=64,\n",
        "                          num_workers=2,\n",
        "                          shuffle=True)\n",
        "valid_loader = DataLoader(valid_dataset,\n",
        "                          batch_size=64,\n",
        "                          num_workers=2,\n",
        "                          shuffle=False)"
      ]
    },
    {
      "cell_type": "code",
      "execution_count": 8,
      "metadata": {
        "id": "3fI51Ih8Bu05",
        "colab": {
          "base_uri": "https://localhost:8080/"
        },
        "outputId": "d0382951-593a-4b78-e2ab-8ec11c602ab8"
      },
      "outputs": [
        {
          "output_type": "stream",
          "name": "stdout",
          "text": [
            "torch.Size([64, 1, 256, 256])\n",
            "tensor([0, 1, 1, 0, 1, 1, 1, 1, 1, 0, 1, 1, 1, 1, 0, 0, 0, 1, 1, 1, 0, 1, 0, 1,\n",
            "        1, 1, 1, 0, 1, 1, 1, 0, 1, 1, 0, 0, 0, 1, 0, 1, 1, 0, 0, 1, 1, 1, 1, 1,\n",
            "        0, 1, 1, 1, 1, 1, 1, 1, 0, 0, 1, 1, 1, 0, 0, 1])\n"
          ]
        }
      ],
      "source": [
        "inputs, label = next(iter(train_loader))\n",
        "print(inputs.size())\n",
        "print(label)"
      ]
    },
    {
      "cell_type": "markdown",
      "metadata": {
        "id": "F07nO0EmLqI0"
      },
      "source": [
        "### Load model"
      ]
    },
    {
      "cell_type": "code",
      "execution_count": 9,
      "metadata": {
        "id": "GSuSEV_qH8iZ"
      },
      "outputs": [],
      "source": [
        "class ResNet34(nn.Module):\n",
        "    def __init__(self, num_classes):\n",
        "        super(ResNet34, self).__init__()\n",
        "        self.model = resnet34(weights=\"DEFAULT\")\n",
        "        self.num_ftrs = self.model.fc.in_features\n",
        "        self.model.fc = nn.Linear(self.num_ftrs, num_classes)\n",
        "        self.model.conv1 = nn.Conv2d(1, 64, kernel_size=7, stride=2, padding=3)\n",
        "\n",
        "    def forward(self, x):\n",
        "        x = self.model(x)\n",
        "        return x"
      ]
    },
    {
      "cell_type": "code",
      "source": [
        "class DenseNet121(nn.Module):\n",
        "    def __init__(self, num_classes):\n",
        "        super(DenseNet121, self).__init__()\n",
        "        self.model = densenet121(weights=\"DEFAULT\")\n",
        "        self.num_ftrs = self.model.classifier.in_features\n",
        "        self.model.classifier = nn.Linear(self.num_ftrs, num_classes)\n",
        "        self.model.features.conv0 = nn.Conv2d(1, 64, kernel_size=7, stride=2, padding=3)\n",
        "\n",
        "    def forward(self, x):\n",
        "        x = self.model(x)\n",
        "        return x"
      ],
      "metadata": {
        "id": "GmeWQYzr6bu5"
      },
      "execution_count": 10,
      "outputs": []
    },
    {
      "cell_type": "code",
      "execution_count": 11,
      "metadata": {
        "id": "C74Vl9qOGDE_"
      },
      "outputs": [],
      "source": [
        "model = ResNet34(num_classes=2)"
      ]
    },
    {
      "cell_type": "code",
      "execution_count": 12,
      "metadata": {
        "id": "R-AS8VtvMKeB",
        "colab": {
          "base_uri": "https://localhost:8080/"
        },
        "outputId": "006b182a-ef6e-44e8-cf88-7f77ea97a15c"
      },
      "outputs": [
        {
          "output_type": "stream",
          "name": "stdout",
          "text": [
            "torch.Size([1, 2])\n"
          ]
        }
      ],
      "source": [
        "input = torch.ones(1,1,256,256)\n",
        "output = model(input)\n",
        "print(output.size())"
      ]
    },
    {
      "cell_type": "code",
      "execution_count": 13,
      "metadata": {
        "id": "FIeLiDsEI40n"
      },
      "outputs": [],
      "source": [
        "optimizer = optim.Adam(model.parameters(), lr=1e-04, betas=(0.9, 0.999), eps=1e-08)\n",
        "scheduler = optim.lr_scheduler.StepLR(optimizer, step_size=5, gamma=0.5)\n",
        "criterion = nn.CrossEntropyLoss()"
      ]
    },
    {
      "cell_type": "code",
      "execution_count": 14,
      "metadata": {
        "id": "aA-NyZALJPt3",
        "colab": {
          "base_uri": "https://localhost:8080/"
        },
        "outputId": "74c0a585-7e21-454b-823e-32a99bac0e20"
      },
      "outputs": [
        {
          "output_type": "stream",
          "name": "stdout",
          "text": [
            "cuda:0\n"
          ]
        }
      ],
      "source": [
        "device = torch.device('cuda:0' if torch.cuda.is_available() else 'cpu')\n",
        "print(device)\n",
        "\n",
        "model = model.to(device)\n",
        "criterion = criterion.to(device)"
      ]
    },
    {
      "cell_type": "markdown",
      "metadata": {
        "id": "PvpOES_qLvwQ"
      },
      "source": [
        "### Train"
      ]
    },
    {
      "cell_type": "code",
      "execution_count": 15,
      "metadata": {
        "id": "uaPaLbr-JR7C",
        "colab": {
          "base_uri": "https://localhost:8080/"
        },
        "outputId": "1625d4b7-321c-437d-c633-bee3e78a1f6b"
      },
      "outputs": [
        {
          "output_type": "stream",
          "name": "stdout",
          "text": [
            "----------------------------------------\n",
            "Epoch : 1/55\n",
            "train Loss : 0.1009 Acc : 0.9612\n",
            "valid Loss : 0.1607 Acc : 0.9463\n",
            "best Acc : 0.9463\n",
            "best Epoch : 1\n",
            "----------------------------------------\n",
            "\n",
            "----------------------------------------\n",
            "Epoch : 2/55\n",
            "train Loss : 0.0324 Acc : 0.9880\n",
            "valid Loss : 0.0570 Acc : 0.9808\n",
            "best Acc : 0.9808\n",
            "best Epoch : 2\n",
            "----------------------------------------\n",
            "\n",
            "----------------------------------------\n",
            "Epoch : 3/55\n",
            "train Loss : 0.0138 Acc : 0.9945\n",
            "valid Loss : 0.0829 Acc : 0.9827\n",
            "best Acc : 0.9827\n",
            "best Epoch : 3\n",
            "----------------------------------------\n",
            "\n",
            "----------------------------------------\n",
            "Epoch : 4/55\n",
            "train Loss : 0.0120 Acc : 0.9957\n",
            "valid Loss : 0.0738 Acc : 0.9837\n",
            "best Acc : 0.9837\n",
            "best Epoch : 4\n",
            "----------------------------------------\n",
            "\n",
            "----------------------------------------\n",
            "Epoch : 5/55\n",
            "train Loss : 0.0051 Acc : 0.9988\n",
            "valid Loss : 0.0787 Acc : 0.9818\n",
            "best Acc : 0.9837\n",
            "best Epoch : 4\n",
            "----------------------------------------\n",
            "\n",
            "----------------------------------------\n",
            "Epoch : 6/55\n",
            "train Loss : 0.0021 Acc : 0.9993\n",
            "valid Loss : 0.0559 Acc : 0.9847\n",
            "best Acc : 0.9847\n",
            "best Epoch : 6\n",
            "----------------------------------------\n",
            "\n",
            "----------------------------------------\n",
            "Epoch : 7/55\n",
            "train Loss : 0.0010 Acc : 1.0000\n",
            "valid Loss : 0.0486 Acc : 0.9856\n",
            "best Acc : 0.9856\n",
            "best Epoch : 7\n",
            "----------------------------------------\n",
            "\n",
            "----------------------------------------\n",
            "Epoch : 8/55\n",
            "train Loss : 0.0010 Acc : 1.0000\n",
            "valid Loss : 0.0488 Acc : 0.9856\n",
            "best Acc : 0.9856\n",
            "best Epoch : 8\n",
            "----------------------------------------\n",
            "\n",
            "----------------------------------------\n",
            "Epoch : 9/55\n",
            "train Loss : 0.0023 Acc : 0.9993\n",
            "valid Loss : 0.0612 Acc : 0.9827\n",
            "best Acc : 0.9856\n",
            "best Epoch : 8\n",
            "----------------------------------------\n",
            "\n",
            "----------------------------------------\n",
            "Epoch : 10/55\n",
            "train Loss : 0.0006 Acc : 1.0000\n",
            "valid Loss : 0.0588 Acc : 0.9866\n",
            "best Acc : 0.9866\n",
            "best Epoch : 10\n",
            "----------------------------------------\n",
            "\n",
            "----------------------------------------\n",
            "Epoch : 11/55\n",
            "train Loss : 0.0004 Acc : 1.0000\n",
            "valid Loss : 0.0599 Acc : 0.9856\n",
            "best Acc : 0.9866\n",
            "best Epoch : 10\n",
            "----------------------------------------\n",
            "\n",
            "----------------------------------------\n",
            "Epoch : 12/55\n",
            "train Loss : 0.0004 Acc : 1.0000\n",
            "valid Loss : 0.0579 Acc : 0.9837\n",
            "best Acc : 0.9866\n",
            "best Epoch : 10\n",
            "----------------------------------------\n",
            "\n",
            "----------------------------------------\n",
            "Epoch : 13/55\n",
            "train Loss : 0.0008 Acc : 0.9998\n",
            "valid Loss : 0.0528 Acc : 0.9856\n",
            "best Acc : 0.9866\n",
            "best Epoch : 10\n",
            "----------------------------------------\n",
            "\n",
            "----------------------------------------\n",
            "Epoch : 14/55\n",
            "train Loss : 0.0004 Acc : 1.0000\n",
            "valid Loss : 0.0563 Acc : 0.9856\n",
            "best Acc : 0.9866\n",
            "best Epoch : 10\n",
            "----------------------------------------\n",
            "\n",
            "----------------------------------------\n",
            "Epoch : 15/55\n",
            "train Loss : 0.0002 Acc : 1.0000\n",
            "valid Loss : 0.0541 Acc : 0.9866\n",
            "best Acc : 0.9866\n",
            "best Epoch : 15\n",
            "----------------------------------------\n",
            "\n",
            "----------------------------------------\n",
            "Epoch : 16/55\n",
            "train Loss : 0.0001 Acc : 1.0000\n",
            "valid Loss : 0.0536 Acc : 0.9866\n",
            "best Acc : 0.9866\n",
            "best Epoch : 16\n",
            "----------------------------------------\n",
            "\n",
            "----------------------------------------\n",
            "Epoch : 17/55\n",
            "train Loss : 0.0002 Acc : 1.0000\n",
            "valid Loss : 0.0562 Acc : 0.9856\n",
            "best Acc : 0.9866\n",
            "best Epoch : 16\n",
            "----------------------------------------\n",
            "\n",
            "----------------------------------------\n",
            "Epoch : 18/55\n",
            "train Loss : 0.0002 Acc : 1.0000\n",
            "valid Loss : 0.0548 Acc : 0.9866\n",
            "best Acc : 0.9866\n",
            "best Epoch : 18\n",
            "----------------------------------------\n",
            "\n",
            "----------------------------------------\n",
            "Epoch : 19/55\n",
            "train Loss : 0.0001 Acc : 1.0000\n",
            "valid Loss : 0.0543 Acc : 0.9866\n",
            "best Acc : 0.9866\n",
            "best Epoch : 19\n",
            "----------------------------------------\n",
            "\n",
            "----------------------------------------\n",
            "Epoch : 20/55\n",
            "train Loss : 0.0002 Acc : 1.0000\n",
            "valid Loss : 0.0545 Acc : 0.9875\n",
            "best Acc : 0.9875\n",
            "best Epoch : 20\n",
            "----------------------------------------\n",
            "\n",
            "----------------------------------------\n",
            "Epoch : 21/55\n",
            "train Loss : 0.0001 Acc : 1.0000\n",
            "valid Loss : 0.0550 Acc : 0.9866\n",
            "best Acc : 0.9875\n",
            "best Epoch : 20\n",
            "----------------------------------------\n",
            "\n",
            "----------------------------------------\n",
            "Epoch : 22/55\n",
            "train Loss : 0.0001 Acc : 1.0000\n",
            "valid Loss : 0.0542 Acc : 0.9856\n",
            "best Acc : 0.9875\n",
            "best Epoch : 20\n",
            "----------------------------------------\n",
            "\n",
            "----------------------------------------\n",
            "Epoch : 23/55\n",
            "train Loss : 0.0001 Acc : 1.0000\n",
            "valid Loss : 0.0615 Acc : 0.9837\n",
            "best Acc : 0.9875\n",
            "best Epoch : 20\n",
            "----------------------------------------\n",
            "\n",
            "----------------------------------------\n",
            "Epoch : 24/55\n",
            "train Loss : 0.0001 Acc : 1.0000\n",
            "valid Loss : 0.0555 Acc : 0.9875\n",
            "best Acc : 0.9875\n",
            "best Epoch : 24\n",
            "----------------------------------------\n",
            "\n",
            "----------------------------------------\n",
            "Epoch : 25/55\n",
            "train Loss : 0.0002 Acc : 1.0000\n",
            "valid Loss : 0.0558 Acc : 0.9866\n",
            "best Acc : 0.9875\n",
            "best Epoch : 24\n",
            "----------------------------------------\n",
            "\n",
            "----------------------------------------\n",
            "Epoch : 26/55\n",
            "train Loss : 0.0001 Acc : 1.0000\n",
            "valid Loss : 0.0558 Acc : 0.9875\n",
            "best Acc : 0.9875\n",
            "best Epoch : 26\n",
            "----------------------------------------\n",
            "\n",
            "----------------------------------------\n",
            "Epoch : 27/55\n",
            "train Loss : 0.0001 Acc : 1.0000\n",
            "valid Loss : 0.0557 Acc : 0.9875\n",
            "best Acc : 0.9875\n",
            "best Epoch : 27\n",
            "----------------------------------------\n",
            "\n",
            "----------------------------------------\n",
            "Epoch : 28/55\n",
            "train Loss : 0.0002 Acc : 1.0000\n",
            "valid Loss : 0.0561 Acc : 0.9875\n",
            "best Acc : 0.9875\n",
            "best Epoch : 28\n",
            "----------------------------------------\n",
            "\n",
            "----------------------------------------\n",
            "Epoch : 29/55\n",
            "train Loss : 0.0002 Acc : 1.0000\n",
            "valid Loss : 0.0549 Acc : 0.9866\n",
            "best Acc : 0.9875\n",
            "best Epoch : 28\n",
            "----------------------------------------\n",
            "\n",
            "----------------------------------------\n",
            "Epoch : 30/55\n",
            "train Loss : 0.0002 Acc : 1.0000\n",
            "valid Loss : 0.0559 Acc : 0.9866\n",
            "best Acc : 0.9875\n",
            "best Epoch : 28\n",
            "----------------------------------------\n",
            "\n",
            "----------------------------------------\n",
            "Epoch : 31/55\n",
            "train Loss : 0.0001 Acc : 1.0000\n",
            "valid Loss : 0.0565 Acc : 0.9866\n",
            "best Acc : 0.9875\n",
            "best Epoch : 28\n",
            "----------------------------------------\n",
            "\n",
            "----------------------------------------\n",
            "Epoch : 32/55\n",
            "train Loss : 0.0001 Acc : 1.0000\n",
            "valid Loss : 0.0578 Acc : 0.9847\n",
            "best Acc : 0.9875\n",
            "best Epoch : 28\n",
            "----------------------------------------\n",
            "\n",
            "----------------------------------------\n",
            "Epoch : 33/55\n",
            "train Loss : 0.0001 Acc : 1.0000\n",
            "valid Loss : 0.0565 Acc : 0.9866\n",
            "best Acc : 0.9875\n",
            "best Epoch : 28\n",
            "----------------------------------------\n",
            "\n",
            "----------------------------------------\n",
            "Epoch : 34/55\n",
            "train Loss : 0.0002 Acc : 1.0000\n",
            "valid Loss : 0.0556 Acc : 0.9866\n",
            "best Acc : 0.9875\n",
            "best Epoch : 28\n",
            "----------------------------------------\n",
            "\n",
            "----------------------------------------\n",
            "Epoch : 35/55\n",
            "train Loss : 0.0002 Acc : 1.0000\n",
            "valid Loss : 0.0546 Acc : 0.9866\n",
            "best Acc : 0.9875\n",
            "best Epoch : 28\n",
            "----------------------------------------\n",
            "\n",
            "----------------------------------------\n",
            "Epoch : 36/55\n",
            "train Loss : 0.0002 Acc : 1.0000\n",
            "valid Loss : 0.0562 Acc : 0.9866\n",
            "best Acc : 0.9875\n",
            "best Epoch : 28\n",
            "----------------------------------------\n",
            "\n",
            "----------------------------------------\n",
            "Epoch : 37/55\n",
            "train Loss : 0.0004 Acc : 0.9998\n",
            "valid Loss : 0.0595 Acc : 0.9847\n",
            "best Acc : 0.9875\n",
            "best Epoch : 28\n",
            "----------------------------------------\n",
            "\n",
            "----------------------------------------\n",
            "Epoch : 38/55\n",
            "train Loss : 0.0002 Acc : 1.0000\n",
            "valid Loss : 0.0559 Acc : 0.9866\n",
            "best Acc : 0.9875\n",
            "best Epoch : 28\n",
            "----------------------------------------\n",
            "\n",
            "----------------------------------------\n",
            "Epoch : 39/55\n",
            "train Loss : 0.0002 Acc : 1.0000\n",
            "valid Loss : 0.0546 Acc : 0.9847\n",
            "best Acc : 0.9875\n",
            "best Epoch : 28\n",
            "----------------------------------------\n",
            "\n",
            "----------------------------------------\n",
            "Epoch : 40/55\n",
            "train Loss : 0.0001 Acc : 1.0000\n",
            "valid Loss : 0.0561 Acc : 0.9856\n",
            "best Acc : 0.9875\n",
            "best Epoch : 28\n",
            "----------------------------------------\n",
            "\n",
            "----------------------------------------\n",
            "Epoch : 41/55\n",
            "train Loss : 0.0002 Acc : 1.0000\n",
            "valid Loss : 0.0622 Acc : 0.9856\n",
            "best Acc : 0.9875\n",
            "best Epoch : 28\n",
            "----------------------------------------\n",
            "\n",
            "----------------------------------------\n",
            "Epoch : 42/55\n",
            "train Loss : 0.0003 Acc : 1.0000\n",
            "valid Loss : 0.0537 Acc : 0.9866\n",
            "best Acc : 0.9875\n",
            "best Epoch : 28\n",
            "----------------------------------------\n",
            "\n",
            "----------------------------------------\n",
            "Epoch : 43/55\n",
            "train Loss : 0.0001 Acc : 1.0000\n",
            "valid Loss : 0.0542 Acc : 0.9866\n",
            "best Acc : 0.9875\n",
            "best Epoch : 28\n",
            "----------------------------------------\n",
            "\n",
            "----------------------------------------\n",
            "Epoch : 44/55\n",
            "train Loss : 0.0001 Acc : 1.0000\n",
            "valid Loss : 0.0547 Acc : 0.9866\n",
            "best Acc : 0.9875\n",
            "best Epoch : 28\n",
            "----------------------------------------\n",
            "\n",
            "----------------------------------------\n",
            "Epoch : 45/55\n",
            "train Loss : 0.0005 Acc : 0.9998\n",
            "valid Loss : 0.0591 Acc : 0.9847\n",
            "best Acc : 0.9875\n",
            "best Epoch : 28\n",
            "----------------------------------------\n",
            "\n",
            "----------------------------------------\n",
            "Epoch : 46/55\n",
            "train Loss : 0.0002 Acc : 1.0000\n",
            "valid Loss : 0.0542 Acc : 0.9866\n",
            "best Acc : 0.9875\n",
            "best Epoch : 28\n",
            "----------------------------------------\n",
            "\n",
            "----------------------------------------\n",
            "Epoch : 47/55\n",
            "train Loss : 0.0001 Acc : 1.0000\n",
            "valid Loss : 0.0568 Acc : 0.9837\n",
            "best Acc : 0.9875\n",
            "best Epoch : 28\n",
            "----------------------------------------\n",
            "\n",
            "----------------------------------------\n",
            "Epoch : 48/55\n",
            "train Loss : 0.0002 Acc : 1.0000\n",
            "valid Loss : 0.0546 Acc : 0.9866\n",
            "best Acc : 0.9875\n",
            "best Epoch : 28\n",
            "----------------------------------------\n",
            "\n",
            "----------------------------------------\n",
            "Epoch : 49/55\n",
            "train Loss : 0.0002 Acc : 1.0000\n",
            "valid Loss : 0.0530 Acc : 0.9866\n",
            "best Acc : 0.9875\n",
            "best Epoch : 28\n",
            "----------------------------------------\n",
            "\n",
            "----------------------------------------\n",
            "Epoch : 50/55\n",
            "train Loss : 0.0001 Acc : 1.0000\n",
            "valid Loss : 0.0538 Acc : 0.9866\n",
            "best Acc : 0.9875\n",
            "best Epoch : 28\n",
            "----------------------------------------\n",
            "\n",
            "----------------------------------------\n",
            "Epoch : 51/55\n",
            "train Loss : 0.0001 Acc : 1.0000\n",
            "valid Loss : 0.0539 Acc : 0.9856\n",
            "best Acc : 0.9875\n",
            "best Epoch : 28\n",
            "----------------------------------------\n",
            "\n",
            "----------------------------------------\n",
            "Epoch : 52/55\n",
            "train Loss : 0.0001 Acc : 1.0000\n",
            "valid Loss : 0.0537 Acc : 0.9866\n",
            "best Acc : 0.9875\n",
            "best Epoch : 28\n",
            "----------------------------------------\n",
            "\n",
            "----------------------------------------\n",
            "Epoch : 53/55\n",
            "train Loss : 0.0003 Acc : 1.0000\n",
            "valid Loss : 0.0540 Acc : 0.9856\n",
            "best Acc : 0.9875\n",
            "best Epoch : 28\n",
            "----------------------------------------\n",
            "\n",
            "----------------------------------------\n",
            "Epoch : 54/55\n",
            "train Loss : 0.0004 Acc : 1.0000\n",
            "valid Loss : 0.0643 Acc : 0.9837\n",
            "best Acc : 0.9875\n",
            "best Epoch : 28\n",
            "----------------------------------------\n",
            "\n",
            "----------------------------------------\n",
            "Epoch : 55/55\n",
            "train Loss : 0.0003 Acc : 1.0000\n",
            "valid Loss : 0.0541 Acc : 0.9856\n",
            "best Acc : 0.9875\n",
            "best Epoch : 28\n",
            "----------------------------------------\n",
            "\n"
          ]
        }
      ],
      "source": [
        "def train(model, train_loader, valid_loader, optimizer, criterion, num_epochs):\n",
        "    best_acc = 0.0\n",
        "    best_epoch = 1\n",
        "\n",
        "    global train_loss\n",
        "    global train_acc\n",
        "    global valid_loss\n",
        "    global valid_acc\n",
        "    train_loss = []\n",
        "    train_acc = []\n",
        "    valid_loss = []\n",
        "    valid_acc = []\n",
        "    for epoch in range(num_epochs):\n",
        "        print(\"-\" * 40)\n",
        "        print(f\"Epoch : {epoch+1}/{num_epochs}\")\n",
        "        epoch_loss = 0.0\n",
        "        epoch_corrects = 0\n",
        "        model.train()\n",
        "        for batch_in, batch_out in train_loader:\n",
        "            batch_in = batch_in.to(device)\n",
        "            batch_out = batch_out.to(device)\n",
        "\n",
        "            y_pred = model(batch_in)\n",
        "            _, preds = torch.max(y_pred, 1)\n",
        "\n",
        "            loss = criterion(y_pred, batch_out)\n",
        "\n",
        "            optimizer.zero_grad()\n",
        "            loss.backward()\n",
        "            optimizer.step()\n",
        "\n",
        "            epoch_loss += loss.item() * batch_in.size(0)\n",
        "            epoch_corrects += torch.sum(preds == batch_out.data)\n",
        "\n",
        "        epoch_loss = epoch_loss / len(train_loader.dataset)\n",
        "        epoch_acc = epoch_corrects.double() / len(train_loader.dataset)\n",
        "\n",
        "        train_loss.append(epoch_loss)\n",
        "        train_acc.append(epoch_acc)\n",
        "\n",
        "        print(f\"train Loss : {epoch_loss:.4f} Acc : {epoch_acc:.4f}\")\n",
        "\n",
        "        epoch_loss = 0.0\n",
        "        epoch_corrects = 0\n",
        "        model.eval()\n",
        "        for batch_in, batch_out in valid_loader:\n",
        "            batch_in = batch_in.to(device)\n",
        "            batch_out = batch_out.to(device)\n",
        "\n",
        "            with torch.no_grad():\n",
        "                y_pred = model(batch_in)\n",
        "                _, preds = torch.max(y_pred, 1)\n",
        "\n",
        "                loss = criterion(y_pred, batch_out)\n",
        "\n",
        "                epoch_loss += loss.item() * batch_in.size(0)\n",
        "                epoch_corrects += torch.sum(preds == batch_out.data)\n",
        "\n",
        "        epoch_loss = epoch_loss / len(valid_loader.dataset)\n",
        "        epoch_acc = epoch_corrects.double() / len(valid_loader.dataset)\n",
        "\n",
        "        valid_loss.append(epoch_loss)\n",
        "        valid_acc.append(epoch_acc)\n",
        "\n",
        "        scheduler.step()\n",
        "\n",
        "        if epoch_acc >= best_acc:\n",
        "            best_acc = epoch_acc\n",
        "            best_epoch = epoch + 1\n",
        "            torch.save(\n",
        "                model, \"/content/drive/MyDrive/image_processing_project/model_paper.pt\"\n",
        "            )\n",
        "\n",
        "        print(f\"valid Loss : {epoch_loss:.4f} Acc : {epoch_acc:.4f}\")\n",
        "        print(f\"best Acc : {best_acc:.4f}\")\n",
        "        print(f\"best Epoch : {best_epoch}\")\n",
        "        print(\"-\" * 40)\n",
        "        print()\n",
        "\n",
        "\n",
        "train(model, train_loader, valid_loader, optimizer, criterion, num_epochs=55)"
      ]
    },
    {
      "cell_type": "code",
      "execution_count": 16,
      "metadata": {
        "id": "mlPpHri1ZQzb",
        "colab": {
          "base_uri": "https://localhost:8080/",
          "height": 428
        },
        "outputId": "defcd66d-5638-492a-e9e2-d5afc6cacf2f"
      },
      "outputs": [
        {
          "output_type": "display_data",
          "data": {
            "text/plain": [
              "<Figure size 1200x400 with 2 Axes>"
            ],
            "image/png": "[encoded data removed]"
          },
          "metadata": {}
        }
      ],
      "source": [
        "import matplotlib.pyplot as plt\n",
        "\n",
        "train_acc = [acc.cpu().numpy() for acc in train_acc]\n",
        "valid_acc = [acc.cpu().numpy() for acc in valid_acc]\n",
        "\n",
        "f, (ax1, ax2) = plt.subplots(1, 2, figsize=(12, 4))\n",
        "t = f.suptitle('Performance', fontsize=12)\n",
        "f.subplots_adjust(top=0.85, wspace=0.3)\n",
        "\n",
        "num_epochs = 55\n",
        "epoch_list = list(range(1,num_epochs+1))\n",
        "ax1.plot(epoch_list, train_acc, label='Train Accuracy')\n",
        "ax1.plot(epoch_list, valid_acc, label='Validation Accuracy')\n",
        "ax1.set_xticks(np.arange(0, num_epochs*2+1, 5))\n",
        "ax1.set_ylabel('Accuracy Value')\n",
        "ax1.set_xlabel('Epoch')\n",
        "ax1.set_title('Accuracy')\n",
        "l1 = ax1.legend(loc=\"best\")\n",
        "\n",
        "ax2.plot(epoch_list, train_loss, label='Train Loss')\n",
        "ax2.plot(epoch_list, valid_loss, label='Validation Loss')\n",
        "ax2.set_xticks(np.arange(0, num_epochs*2+1, 5))\n",
        "ax2.set_ylabel('Loss Value')\n",
        "ax2.set_xlabel('Epoch')\n",
        "ax2.set_title('Loss')\n",
        "l2 = ax2.legend(loc=\"best\")"
      ]
    },
    {
      "cell_type": "markdown",
      "metadata": {
        "id": "zatYOlh_YCA5"
      },
      "source": [
        "### Test"
      ]
    },
    {
      "cell_type": "code",
      "execution_count": 17,
      "metadata": {
        "id": "vxQdAb4TYHFO"
      },
      "outputs": [],
      "source": [
        "test_normal_dir = '/content/drive/MyDrive/image_processing_project/test/NORMAL'\n",
        "test_pneumonia_dir = '/content/drive/MyDrive/image_processing_project/test/PNEUMONIA'\n",
        "\n",
        "test_normal_filenames = sorted([os.path.join(test_normal_dir, f) for f in os.listdir(test_normal_dir)])\n",
        "test_pneumonia_filenames = sorted([os.path.join(test_pneumonia_dir, f) for f in os.listdir(test_pneumonia_dir)])\n",
        "\n",
        "test_filenames = [*test_normal_filenames, *test_pneumonia_filenames]"
      ]
    },
    {
      "cell_type": "code",
      "execution_count": 18,
      "metadata": {
        "id": "vqXNWOLVYK_3"
      },
      "outputs": [],
      "source": [
        "test_transforms = A.Compose([A.Resize(height=256, width=256),\n",
        "                              A.Normalize(mean=[0.5], std=[0.5], max_pixel_value=255.0, p=1.0),\n",
        "                              ToTensorV2(always_apply=True),])"
      ]
    },
    {
      "cell_type": "code",
      "execution_count": 19,
      "metadata": {
        "id": "t69dCAfmYVDD"
      },
      "outputs": [],
      "source": [
        "class XrayInferenceDataset(Dataset):\n",
        "    def __init__(self, filenames, transforms):\n",
        "        self.filenames = filenames\n",
        "        self.transforms = transforms\n",
        "\n",
        "    def __len__(self):\n",
        "        return len(self.filenames)\n",
        "\n",
        "    def __getitem__(self, idx):\n",
        "        img_path = self.filenames[idx]\n",
        "        img = Image.open(img_path)\n",
        "        if img.mode == \"RGB\":\n",
        "            img = img.convert(\"L\")\n",
        "        img = np.array(img)\n",
        "        transformed_img = self.transforms(image=img)[\"image\"]\n",
        "        img_name = img_path.split(\"/\")[-1]\n",
        "        return transformed_img, img_name"
      ]
    },
    {
      "cell_type": "code",
      "execution_count": 20,
      "metadata": {
        "id": "hV0cIa7iYrHn"
      },
      "outputs": [],
      "source": [
        "test_dataset = XrayInferenceDataset(test_filenames, transforms=test_transforms)\n",
        "valid_dataset = XrayInferenceDataset(valid_filenames, valid_transforms)\n",
        "\n",
        "test_loader = DataLoader(valid_dataset,\n",
        "                          batch_size=64,\n",
        "                          num_workers=2,\n",
        "                          shuffle=False)"
      ]
    },
    {
      "cell_type": "code",
      "execution_count": 21,
      "metadata": {
        "id": "8LR5FbYQY0tj"
      },
      "outputs": [],
      "source": [
        "inputs = next(iter(test_loader))"
      ]
    },
    {
      "cell_type": "code",
      "execution_count": 22,
      "metadata": {
        "id": "lU3r3SiIY4WG",
        "colab": {
          "base_uri": "https://localhost:8080/"
        },
        "outputId": "7a665b4a-6878-48e7-8e96-e426dbdcda53"
      },
      "outputs": [
        {
          "output_type": "stream",
          "name": "stdout",
          "text": [
            "135292.0625\n"
          ]
        }
      ],
      "source": [
        "def inference(model, test_loader):\n",
        "    starter, ender = torch.cuda.Event(enable_timing=True), torch.cuda.Event(enable_timing=True)\n",
        "    starter.record()\n",
        "\n",
        "    model.eval()\n",
        "    for batch_in, img_name in test_loader:\n",
        "        batch_in = batch_in.to(device)\n",
        "\n",
        "        y_pred = model(batch_in)\n",
        "        y_pred = F.softmax(y_pred, dim=1)\n",
        "        _, preds = torch.max(y_pred, 1)\n",
        "\n",
        "        # print(\n",
        "        #     f'\"{img_name[0]}\" : detected nothing'\n",
        "        #     if preds[0] == 0\n",
        "        #     else f'\"{img_name[0]}\" : detected an abnormal finding'\n",
        "        # )\n",
        "    ender.record()\n",
        "    torch.cuda.synchronize()\n",
        "    curr_time = starter.elapsed_time(ender)\n",
        "    print(curr_time)\n",
        "\n",
        "\n",
        "model = torch.load(\"/content/drive/MyDrive/image_processing_project/model_paper.pt\")\n",
        "model.to(device)\n",
        "inference(model, test_loader)"
      ]
    },
    {
      "cell_type": "code",
      "source": [],
      "metadata": {
        "id": "bXUdYYt4MU31"
      },
      "execution_count": 22,
      "outputs": []
    }
  ],
  "metadata": {
    "accelerator": "GPU",
    "colab": {
      "provenance": []
    },
    "kernelspec": {
      "display_name": "Python 3",
      "name": "python3"
    },
    "language_info": {
      "name": "python"
    }
  },
  "nbformat": 4,
  "nbformat_minor": 0
}